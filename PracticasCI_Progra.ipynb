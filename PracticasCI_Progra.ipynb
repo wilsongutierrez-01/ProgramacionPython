{
  "nbformat": 4,
  "nbformat_minor": 0,
  "metadata": {
    "colab": {
      "name": "PracticasCI.Progra",
      "provenance": [],
      "include_colab_link": true
    },
    "kernelspec": {
      "name": "python3",
      "display_name": "Python 3"
    },
    "language_info": {
      "name": "python"
    }
  },
  "cells": [
    {
      "cell_type": "markdown",
      "metadata": {
        "id": "view-in-github",
        "colab_type": "text"
      },
      "source": [
        "<a href=\"https://colab.research.google.com/github/wilsongutierrez-01/ProgramacionPython/blob/main/PracticasCI_Progra.ipynb\" target=\"_parent\"><img src=\"https://colab.research.google.com/assets/colab-badge.svg\" alt=\"Open In Colab\"/></a>"
      ]
    },
    {
      "cell_type": "code",
      "execution_count": null,
      "metadata": {
        "colab": {
          "base_uri": "https://localhost:8080/"
        },
        "id": "hIi9ZEC1a_F2",
        "outputId": "76a0c253-dbb7-4f9a-bbee-0aea8efb66a4"
      },
      "outputs": [
        {
          "output_type": "stream",
          "name": "stdout",
          "text": [
            "Hola Mundo Bienvenidos a Porgramacion Computacional III\n"
          ]
        }
      ],
      "source": [
        "print(\"Hola Mundo\", \"Bienvenidos a Porgramacion Computacional III\")"
      ]
    },
    {
      "cell_type": "code",
      "source": [
        "print(\"Genesis Hernandez\")"
      ],
      "metadata": {
        "colab": {
          "base_uri": "https://localhost:8080/"
        },
        "id": "poYpUN2HbNLr",
        "outputId": "45dfd136-9090-455f-b979-49e5c173fa4e"
      },
      "execution_count": null,
      "outputs": [
        {
          "output_type": "stream",
          "name": "stdout",
          "text": [
            "Genesis Hernandez\n"
          ]
        }
      ]
    },
    {
      "cell_type": "code",
      "source": [
        "nombre = \"Genesis Hernandez\"\n",
        "print(\"Hola\", nombre , nombre[5], type(nombre))\n",
        "\n",
        "nombre = 19\n",
        "print(\"Tu edad es: \", type(nombre))"
      ],
      "metadata": {
        "colab": {
          "base_uri": "https://localhost:8080/"
        },
        "id": "Ms-4KaEubhLH",
        "outputId": "002cc039-6383-4fa7-8b6b-7620077a8136"
      },
      "execution_count": null,
      "outputs": [
        {
          "output_type": "stream",
          "name": "stdout",
          "text": [
            "Hola Genesis Hernandez i <class 'str'>\n",
            "Tu edad es:  <class 'int'>\n"
          ]
        }
      ]
    },
    {
      "cell_type": "code",
      "source": [
        "Programacion = True\n",
        "diseno = False\n",
        "print(\"Te gusta Progra\", Programacion, \"Te gusta diseño\", diseno, type(Programacion))"
      ],
      "metadata": {
        "colab": {
          "base_uri": "https://localhost:8080/"
        },
        "id": "Gnd5jtArd4mw",
        "outputId": "93667cd4-ed07-47dc-8d97-56fc36f95ac1"
      },
      "execution_count": null,
      "outputs": [
        {
          "output_type": "stream",
          "name": "stdout",
          "text": [
            "Te gusta Progra True Te gusta diseño False <class 'bool'>\n"
          ]
        }
      ]
    },
    {
      "cell_type": "code",
      "source": [
        "edad = int(input(\"Dime tu edad: \"))\n",
        "if edad>=19: #comparacion da como resultado un valor booleano\n",
        "  print(\"Eres un adulto, tienes resposabilidades...\")\n",
        "else:\n",
        "   print(\"Eres libre\")"
      ],
      "metadata": {
        "colab": {
          "base_uri": "https://localhost:8080/"
        },
        "id": "XUQC48ZdeyDe",
        "outputId": "29b6f507-b9c6-4057-997d-def0312e767a"
      },
      "execution_count": null,
      "outputs": [
        {
          "output_type": "stream",
          "name": "stdout",
          "text": [
            "Dime tu edad: 19\n",
            "Eres un adulto, tienes resposabilidades...\n"
          ]
        }
      ]
    },
    {
      "cell_type": "code",
      "source": [
        "def sumaDosNumeros(num1, num2):\n",
        "   resp= num1 + num2 \n",
        "   return resp\n",
        "print( \"La suma: \", sumaDosNumeros(2,5))"
      ],
      "metadata": {
        "colab": {
          "base_uri": "https://localhost:8080/"
        },
        "id": "n9V5CFfsfivU",
        "outputId": "65cd5ca3-b321-47ff-94da-b8006fdbde78"
      },
      "execution_count": null,
      "outputs": [
        {
          "output_type": "stream",
          "name": "stdout",
          "text": [
            "La suma:  7\n"
          ]
        }
      ]
    },
    {
      "cell_type": "code",
      "source": [
        "#funciones anonimas...\n",
        "sumaNumeros = lambda num1, num2: num1 + num2\n",
        "print( \"La suma: \", sumaNumeros(4,6))"
      ],
      "metadata": {
        "colab": {
          "base_uri": "https://localhost:8080/"
        },
        "id": "Vv01y1KagUy5",
        "outputId": "0ff48cc4-a4c7-489b-a20a-71e11ed1ea92"
      },
      "execution_count": null,
      "outputs": [
        {
          "output_type": "stream",
          "name": "stdout",
          "text": [
            "La suma:  10\n"
          ]
        }
      ]
    },
    {
      "cell_type": "code",
      "source": [
        "numeros = [5,4,7,8,-4,-9] #array unidimensional"
      ],
      "metadata": {
        "id": "khkrkOelhKMy"
      },
      "execution_count": null,
      "outputs": []
    },
    {
      "cell_type": "code",
      "source": [
        "def cuadrado(num):\n",
        "  return num**2"
      ],
      "metadata": {
        "id": "s_k5DxoOhX-h"
      },
      "execution_count": null,
      "outputs": []
    },
    {
      "cell_type": "code",
      "source": [
        "def cubo(num):\n",
        "  return num**3"
      ],
      "metadata": {
        "id": "RDXl3TfzhjJy"
      },
      "execution_count": null,
      "outputs": []
    },
    {
      "cell_type": "code",
      "source": [
        "def pares(num): #num = 2/2 = 1 ==0\n",
        "  return num%2==0"
      ],
      "metadata": {
        "id": "eujCshk_huoh"
      },
      "execution_count": null,
      "outputs": []
    },
    {
      "cell_type": "code",
      "source": [
        "def impares(num): \n",
        "  return num%2!=0"
      ],
      "metadata": {
        "id": "mZW_vIcYiAdx"
      },
      "execution_count": null,
      "outputs": []
    },
    {
      "cell_type": "code",
      "source": [
        "numCuadrado = list (map(cuadrado, numeros))\n",
        "numXDos = list(map(lambda num: num*2, numeros))\n",
        "print(\"Elevar al cuadrado lista: \", numCuadrado,numeros)"
      ],
      "metadata": {
        "colab": {
          "base_uri": "https://localhost:8080/"
        },
        "id": "_LuEZsv2iPay",
        "outputId": "44ea083a-0e0f-4d94-8567-0e93be9a877c"
      },
      "execution_count": null,
      "outputs": [
        {
          "output_type": "stream",
          "name": "stdout",
          "text": [
            "Elevar al cuadrado lista:  [25, 16, 49, 64, 16, 81] [5, 4, 7, 8, -4, -9]\n"
          ]
        }
      ]
    },
    {
      "cell_type": "code",
      "source": [
        "numCubo = list(map(cubo,numeros) )\n",
        "print (numCubo)"
      ],
      "metadata": {
        "colab": {
          "base_uri": "https://localhost:8080/"
        },
        "id": "Sr8DmCIli5Zc",
        "outputId": "ed536904-de81-4252-ddd4-6d977dfae986"
      },
      "execution_count": null,
      "outputs": [
        {
          "output_type": "stream",
          "name": "stdout",
          "text": [
            "[125, 64, 343, 512, -64, -729]\n"
          ]
        }
      ]
    },
    {
      "cell_type": "code",
      "source": [
        "#usando filter dejamos solo los pares\n",
        "pares = list(filter(pares, numeros))\n",
        "print(pares)"
      ],
      "metadata": {
        "colab": {
          "base_uri": "https://localhost:8080/"
        },
        "id": "MI7qM6k2jYoE",
        "outputId": "49d86e8b-e970-436d-ec5c-3e4e580acc52"
      },
      "execution_count": null,
      "outputs": [
        {
          "output_type": "stream",
          "name": "stdout",
          "text": [
            "[4, 8, -4]\n"
          ]
        }
      ]
    },
    {
      "cell_type": "code",
      "source": [
        "impares = list (filter(impares,numeros) )\n",
        "print(impares)"
      ],
      "metadata": {
        "colab": {
          "base_uri": "https://localhost:8080/"
        },
        "id": "j4RJkWA8j6sW",
        "outputId": "8eb8639c-8707-4170-d3c6-85722989e39c"
      },
      "execution_count": null,
      "outputs": [
        {
          "output_type": "stream",
          "name": "stdout",
          "text": [
            "[5, 7, -9]\n"
          ]
        }
      ]
    },
    {
      "cell_type": "code",
      "source": [
        "#conversor de celsius a f\n",
        "def cf(c):\n",
        "  return c*9/5+32"
      ],
      "metadata": {
        "id": "QiX8M8hmkRBv"
      },
      "execution_count": null,
      "outputs": []
    },
    {
      "cell_type": "code",
      "source": [
        "c = float(input(\"Grados C: \"))\n",
        "print( \"G. C a F\", cf(c))"
      ],
      "metadata": {
        "colab": {
          "base_uri": "https://localhost:8080/"
        },
        "id": "y97fgrCVmD46",
        "outputId": "1cd4b5a8-cb12-4322-9224-d88397b8a7ee"
      },
      "execution_count": null,
      "outputs": [
        {
          "output_type": "stream",
          "name": "stdout",
          "text": [
            "Grados C: 27\n",
            "G. C a F 80.6\n"
          ]
        }
      ]
    },
    {
      "cell_type": "code",
      "source": [
        "celsius = lambda c: c*9/5 +32\n",
        "c = int(input(\"Grados Celsius A convertir: \"))\n",
        "\n",
        "print( celsius(c) )"
      ],
      "metadata": {
        "colab": {
          "base_uri": "https://localhost:8080/"
        },
        "id": "rAI3LBj1mWXB",
        "outputId": "24239294-8d79-400a-b245-c08d7781ccec"
      },
      "execution_count": null,
      "outputs": [
        {
          "output_type": "stream",
          "name": "stdout",
          "text": [
            "Grados Celsius A convertir: 27\n",
            "80.6\n"
          ]
        }
      ]
    },
    {
      "cell_type": "code",
      "source": [
        "gradosc = [27,30,35,40,45]\n",
        "grados = lambda c: c*1.8 + 32\n",
        "f = list(map(grados,gradosc) )\n",
        "print(f)"
      ],
      "metadata": {
        "colab": {
          "base_uri": "https://localhost:8080/"
        },
        "id": "CEJwcEHHmyuB",
        "outputId": "7b3a6647-3a69-4521-94e1-008e4cd4c678"
      },
      "execution_count": null,
      "outputs": [
        {
          "output_type": "stream",
          "name": "stdout",
          "text": [
            "[80.6, 86.0, 95.0, 104.0, 113.0]\n"
          ]
        }
      ]
    },
    {
      "cell_type": "code",
      "source": [
        "farenheit = lambda f: c*9/5 +32\n",
        "f = int(input(\"Grados Farenheit A convertir: \"))\n",
        "\n",
        "print(farenheit(f))"
      ],
      "metadata": {
        "colab": {
          "base_uri": "https://localhost:8080/"
        },
        "id": "FyQsxkm4nrfL",
        "outputId": "fa11ffd6-be1a-4be0-e527-0d33567d02da"
      },
      "execution_count": null,
      "outputs": [
        {
          "output_type": "stream",
          "name": "stdout",
          "text": [
            "Grados Farenheit A convertir: 27\n",
            "80.6\n"
          ]
        }
      ]
    },
    {
      "cell_type": "code",
      "source": [
        "gradosf = [80.0,86.0,95.0,104.0,113.0]\n",
        "grados = lambda f: (f-32)*5/9\n",
        "c = list(map(grados,gradosf))\n",
        "\n",
        "print(c)"
      ],
      "metadata": {
        "colab": {
          "base_uri": "https://localhost:8080/"
        },
        "id": "jiA-BEb7njDQ",
        "outputId": "7bfcb617-e12c-4be6-80c5-a4657c9cb906"
      },
      "execution_count": null,
      "outputs": [
        {
          "output_type": "stream",
          "name": "stdout",
          "text": [
            "[26.666666666666668, 30.0, 35.0, 40.0, 45.0]\n"
          ]
        }
      ]
    },
    {
      "cell_type": "code",
      "source": [
        "#Hacer algoritmo para convertir de celsius a kelvin y viceversa"
      ],
      "metadata": {
        "id": "ituyAyoLxEPj"
      },
      "execution_count": null,
      "outputs": []
    },
    {
      "cell_type": "code",
      "source": [
        "gradosK = [300.0, 303.0, 308.0, 313.0,218.0]\n",
        "gradosC= lambda c:(c-273.15)\n",
        "c = list(map(gradosC, gradosK))\n",
        "print(c)"
      ],
      "metadata": {
        "colab": {
          "base_uri": "https://localhost:8080/"
        },
        "id": "XoWmcO-LxTEc",
        "outputId": "3989af2a-b25f-4cc5-f22a-406a2df06ea7"
      },
      "execution_count": null,
      "outputs": [
        {
          "output_type": "stream",
          "name": "stdout",
          "text": [
            "[26.850000000000023, 29.850000000000023, 34.85000000000002, 39.85000000000002, -55.14999999999998]\n"
          ]
        }
      ]
    },
    {
      "cell_type": "code",
      "source": [
        "gradosC = [26,29,34,-55]\n",
        "gradosK = lambda k: k+273.15\n",
        "k = list(map(gradosK,gradosC))\n",
        "print(k)"
      ],
      "metadata": {
        "colab": {
          "base_uri": "https://localhost:8080/"
        },
        "id": "oj5sYLiaytNS",
        "outputId": "3ddc2c8b-dd2c-4e94-b4e8-12ba1a191b4a"
      },
      "execution_count": null,
      "outputs": [
        {
          "output_type": "stream",
          "name": "stdout",
          "text": [
            "[299.15, 302.15, 307.15, 218.14999999999998]\n"
          ]
        }
      ]
    },
    {
      "cell_type": "code",
      "source": [
        "gradosK = lambda k: k+273.15\n",
        "kelvin = int(input(\"Grados Celsius: \"))\n",
        "print(gradosK(kelvin))"
      ],
      "metadata": {
        "colab": {
          "base_uri": "https://localhost:8080/"
        },
        "id": "jNOOYNvk0F8f",
        "outputId": "e254bccf-f155-47f8-b9f9-e0c37dcaee43"
      },
      "execution_count": null,
      "outputs": [
        {
          "output_type": "stream",
          "name": "stdout",
          "text": [
            "Grados Celsius: 10\n",
            "283.15\n"
          ]
        }
      ]
    },
    {
      "cell_type": "code",
      "source": [
        "gradosC = lambda c: c-273.15\n",
        "celsius = float(input(\"Grados kelvin: \"))\n",
        "print(gradosC(celsius))"
      ],
      "metadata": {
        "colab": {
          "base_uri": "https://localhost:8080/"
        },
        "id": "e8w-sp8F04fQ",
        "outputId": "58e9c901-8337-4014-da2c-db467181a33f"
      },
      "execution_count": null,
      "outputs": [
        {
          "output_type": "stream",
          "name": "stdout",
          "text": [
            "Grados kelvin: 340.15\n",
            "67.0\n"
          ]
        }
      ]
    },
    {
      "cell_type": "code",
      "source": [
        "numeros = [5,7,9,6,8,7,3] #, se declara y usa con corchetes"
      ],
      "metadata": {
        "id": "iKhqKUZ00NlT"
      },
      "execution_count": null,
      "outputs": []
    },
    {
      "cell_type": "code",
      "source": [
        "print(\" Lista original \", \" Buscando: \", numeros[numeros.index(3)], numeros[0] )"
      ],
      "metadata": {
        "colab": {
          "base_uri": "https://localhost:8080/"
        },
        "id": "A2K1ykgaF5zz",
        "outputId": "f333cbd5-4d92-48e0-c954-21d6f62ccffa"
      },
      "execution_count": null,
      "outputs": [
        {
          "output_type": "stream",
          "name": "stdout",
          "text": [
            " Lista original   Buscando:  3 5\n"
          ]
        }
      ]
    },
    {
      "cell_type": "code",
      "source": [
        "numeros[0] = 4\n",
        "print(\"Nuevo valor: \", numeros[0])"
      ],
      "metadata": {
        "colab": {
          "base_uri": "https://localhost:8080/"
        },
        "id": "M9spH3D9HUz8",
        "outputId": "d357e465-4e3b-4b5a-db9a-f0a5f3b4e1cb"
      },
      "execution_count": null,
      "outputs": [
        {
          "output_type": "stream",
          "name": "stdout",
          "text": [
            "Nuevo valor:  4\n"
          ]
        }
      ]
    },
    {
      "cell_type": "code",
      "source": [
        "edades = (2,5,12,18,65,100) #Una tupla es inmutable, se declara con parentesis\n",
        "print( \"Las edades: \", edades, edades[0] )"
      ],
      "metadata": {
        "colab": {
          "base_uri": "https://localhost:8080/"
        },
        "id": "3rerA7qWJGee",
        "outputId": "b67cad79-433e-459a-e2fe-5fa20a464ba0"
      },
      "execution_count": null,
      "outputs": [
        {
          "output_type": "stream",
          "name": "stdout",
          "text": [
            "Las edades:  (2, 5, 12, 18, 65, 100) 2\n"
          ]
        }
      ]
    },
    {
      "cell_type": "code",
      "source": [
        "#edades[0] = 0 #No puede cambiar su valor, y se usa con corchetes\n",
        "print( \"Nuevo Valor\", edades[0] )"
      ],
      "metadata": {
        "colab": {
          "base_uri": "https://localhost:8080/"
        },
        "id": "FUD3URsMJoh1",
        "outputId": "baef4ff0-5ba2-40e7-8656-fe5a7634435d"
      },
      "execution_count": null,
      "outputs": [
        {
          "output_type": "stream",
          "name": "stdout",
          "text": [
            "Nuevo Valor 2\n"
          ]
        }
      ]
    },
    {
      "cell_type": "code",
      "source": [
        "print(\"Edades: \", edades, \" Filtrar solo mayores de edad: \", tuple(filter(lambda num: num>=18, edades)) )"
      ],
      "metadata": {
        "colab": {
          "base_uri": "https://localhost:8080/"
        },
        "id": "bUKjr5TqJ-XX",
        "outputId": "c048402c-c3cd-4048-a1c7-0948988ba6d3"
      },
      "execution_count": null,
      "outputs": [
        {
          "output_type": "stream",
          "name": "stdout",
          "text": [
            "Edades:  (2, 5, 12, 18, 65, 100)  Filtrar solo mayores de edad:  (18, 65, 100)\n"
          ]
        }
      ]
    },
    {
      "cell_type": "code",
      "source": [
        "buscando = int(input(\"Valor: \"))\n",
        "print(\"Edades: \", edades, \"Buscando el numero: \", buscando, \"esta en la posicion: \", edades.index(buscando) )"
      ],
      "metadata": {
        "colab": {
          "base_uri": "https://localhost:8080/"
        },
        "id": "NKKTavTSKoff",
        "outputId": "ab4da62f-2274-4dae-fe03-3d9e80c548b6"
      },
      "execution_count": null,
      "outputs": [
        {
          "output_type": "stream",
          "name": "stdout",
          "text": [
            "Valor: 5\n",
            "Edades:  (2, 5, 12, 18, 65, 100) Buscando el numero:  5 esta en la posicion:  1\n"
          ]
        }
      ]
    },
    {
      "cell_type": "code",
      "source": [
        "notas = [5,4,10,7.8,9]\n",
        "print(\"Mis notas: \", notas, \"Notas sobresalientes: \", list(filter(lambda n: n>=9, notas)) )"
      ],
      "metadata": {
        "colab": {
          "base_uri": "https://localhost:8080/"
        },
        "id": "oyPUrROFLvV5",
        "outputId": "51c27064-a525-4799-c745-78890705750c"
      },
      "execution_count": null,
      "outputs": [
        {
          "output_type": "stream",
          "name": "stdout",
          "text": [
            "Mis notas:  [5, 4, 10, 7.8, 9] Notas sobresalientes:  [10, 9]\n"
          ]
        }
      ]
    },
    {
      "cell_type": "code",
      "source": [
        "notasCiclo =[\n",
        "    [5,6,6],\n",
        "    [8,7,10],\n",
        "    [10,10,10]\n",
        "]\n",
        "print( \"Mis Notas\", notasCiclo, \"C1: \", notasCiclo[0], \"C2: \", notasCiclo[1], \"C3: \", notasCiclo[2], \"PC1: \", notasCiclo[0][2] )"
      ],
      "metadata": {
        "colab": {
          "base_uri": "https://localhost:8080/"
        },
        "id": "daloQPcpMWHw",
        "outputId": "42a93e40-1ae6-4fa9-a318-4331c12565f5"
      },
      "execution_count": null,
      "outputs": [
        {
          "output_type": "stream",
          "name": "stdout",
          "text": [
            "Mis Notas [[5, 6, 6], [8, 7, 10], [10, 10, 10]] C1:  [5, 6, 6] C2:  [8, 7, 10] C3:  [10, 10, 10] PC1:  6\n"
          ]
        }
      ]
    },
    {
      "cell_type": "code",
      "source": [
        "materias = [\n",
        "    [ #progra\n",
        "     [5,6,[10,8]],#c1\n",
        "     [5,7,8],#c2\n",
        "     [6,7,6] #c3\n",
        "    ],\n",
        "     [ #Diseño\n",
        "      [10,9,10], #c1\n",
        "      [10,10,8], #c2\n",
        "      [10,10,10] #c3\n",
        "    ],\n",
        "    [ #Redes\n",
        "     [8,7,8], #c1\n",
        "     [7,9.23,9], #c2\n",
        "     [8,7,9] #c3\n",
        "     ]\n",
        "]\n",
        "print(\"Progra: C1 - P\", (materias[0][0][2][0] + materias[0][0][2][1])/2, \";Redes C2, lab2: \", materias[2][1][1] )"
      ],
      "metadata": {
        "colab": {
          "base_uri": "https://localhost:8080/"
        },
        "id": "RVJue89mP2Ka",
        "outputId": "7d31c88a-7815-4c55-bf79-39941ac1d2fc"
      },
      "execution_count": null,
      "outputs": [
        {
          "output_type": "stream",
          "name": "stdout",
          "text": [
            "Progra: C1 - P 9.0 ;Redes C2, lab2:  9.23\n"
          ]
        }
      ]
    },
    {
      "cell_type": "code",
      "source": [
        "misMaterias = {} #Los diccionarios (json) se definen con llaves y se usan con corchetes\n",
        "misNotas = {\n",
        "    \"Progra I\":{\n",
        "        \"CI\": {\n",
        "            \"Lab1\": 5,\n",
        "            \"Lab2\": 6,\n",
        "            \"Parcial\": [10,8]\n",
        "      },\n",
        "      \"CII\":{\n",
        "          \"Lab1\": 5,\n",
        "          \"Lab2\": 7,\n",
        "          \"Parcial\": 8\n",
        "      },\n",
        "      \"CIII\":{\n",
        "          \"Lab1\": 6,\n",
        "          \"Lab\": 7,\n",
        "          \"Parcial\":6\n",
        "      }\n",
        "},\n",
        "\"Diseño\":{\n",
        "    \"CI\": {\n",
        "        \"Lab1\": 10,\n",
        "        \"Lab2\": 9,\n",
        "        \"Parcial\": 10\n",
        "       },\n",
        "       \"CII\":{\n",
        "           \"Lab1\": 10,\n",
        "           \"Lab2\": 10,\n",
        "           \"Parcial\": 8\n",
        "       },\n",
        "       \"CIII\":{\n",
        "           \"Lab1\":10,\n",
        "           \"Lab2\":10,\n",
        "           \"Parcial\":10\n",
        "       }\n",
        "    }\n",
        "}\n",
        "print( misNotas[\"Progra I\"][\"CI\"][\"Parcial\"], misNotas[\"Diseño\"][\"CII\"][\"Lab2\"] )"
      ],
      "metadata": {
        "colab": {
          "base_uri": "https://localhost:8080/"
        },
        "id": "cubcW3krSmQr",
        "outputId": "b3875b03-f143-45d6-8bef-33d9b8f37238"
      },
      "execution_count": null,
      "outputs": [
        {
          "output_type": "stream",
          "name": "stdout",
          "text": [
            "[10, 8] 10\n"
          ]
        }
      ]
    }
  ]
}