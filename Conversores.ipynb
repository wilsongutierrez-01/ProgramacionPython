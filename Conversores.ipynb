{
  "cells": [
    {
      "cell_type": "markdown",
      "metadata": {
        "id": "view-in-github",
        "colab_type": "text"
      },
      "source": [
        "<a href=\"https://colab.research.google.com/github/wilsongutierrez-01/ProgramacionPython/blob/main/Conversores.ipynb\" target=\"_parent\"><img src=\"https://colab.research.google.com/assets/colab-badge.svg\" alt=\"Open In Colab\"/></a>"
      ]
    },
    {
      "cell_type": "code",
      "source": [
        "print(\"Hola Mundo\", \"Bienvenidos a Programacion Computacional III\")\n"
      ],
      "metadata": {
        "colab": {
          "base_uri": "https://localhost:8080/"
        },
        "id": "aWjm4mOXvSPm",
        "outputId": "1be91d25-1490-4042-a006-557f640c20a9"
      },
      "execution_count": null,
      "outputs": [
        {
          "output_type": "stream",
          "name": "stdout",
          "text": [
            "Hola Mundo Bienvenidos a Programacion Computacional III\n"
          ]
        }
      ]
    },
    {
      "cell_type": "code",
      "source": [
        "print(\"Luis Hernandez\")"
      ],
      "metadata": {
        "colab": {
          "base_uri": "https://localhost:8080/"
        },
        "id": "ozI8ahgOwyce",
        "outputId": "6329185b-5d8a-415a-d127-284210193210"
      },
      "execution_count": null,
      "outputs": [
        {
          "output_type": "stream",
          "name": "stdout",
          "text": [
            "Luis Hernandez\n"
          ]
        }
      ]
    },
    {
      "cell_type": "code",
      "source": [
        "nombre = \"Luis Hernandez\"\n",
        "print(\"Hola\", nombre, nombre[5], type(nombre))\n",
        "\n",
        "nombre = 25\n",
        "print(\"Tu edad es: \", type(nombre))"
      ],
      "metadata": {
        "colab": {
          "base_uri": "https://localhost:8080/"
        },
        "id": "yhtR2-9uw63G",
        "outputId": "3b59eec2-0430-4ab6-d6c3-74eb9de06909"
      },
      "execution_count": null,
      "outputs": [
        {
          "output_type": "stream",
          "name": "stdout",
          "text": [
            "Hola Luis Hernandez H <class 'str'>\n",
            "Tu edad es:  <class 'int'>\n"
          ]
        }
      ]
    },
    {
      "cell_type": "code",
      "source": [
        "programacion = True\n",
        "diseno = False\n",
        "print(\"Te gusta Progra\", programacion, \"Te gusta diseño\", diseno, type(programacion))"
      ],
      "metadata": {
        "id": "FGPDUnizM612",
        "outputId": "80be5289-65aa-41a7-c6a0-8a9731cfe648",
        "colab": {
          "base_uri": "https://localhost:8080/"
        }
      },
      "execution_count": null,
      "outputs": [
        {
          "output_type": "stream",
          "name": "stdout",
          "text": [
            "Te gusta Progra True Te gusta diseño False <class 'bool'>\n"
          ]
        }
      ]
    },
    {
      "cell_type": "code",
      "source": [
        "edad = int(input(\"Dime tu edad: \"))\n",
        "if edad>=18: #comparacion da como resultado un valor booleano\n",
        "  print(\"Eres un adulto, tienes responsabilidades...\")\n",
        "else:\n",
        "  print(\"Eres libre\")"
      ],
      "metadata": {
        "id": "d2GyGAOdNW1x",
        "outputId": "ee2f6cd8-9c12-4060-b477-41f34b37596c",
        "colab": {
          "base_uri": "https://localhost:8080/"
        }
      },
      "execution_count": null,
      "outputs": [
        {
          "output_type": "stream",
          "name": "stdout",
          "text": [
            "Dime tu edad: 20\n",
            "Eres un adulto, tienes responsabilidades...\n"
          ]
        }
      ]
    },
    {
      "cell_type": "code",
      "source": [
        "def sumaDosNumeros(num1, num2):\n",
        "  resp = num1 + num2\n",
        "  return resp\n",
        "print( \"La suma: \", sumaDosNumeros(2,5) )    "
      ],
      "metadata": {
        "id": "H303IZroPdeK",
        "outputId": "0eec9f3d-fd79-4522-8c68-f59477cd6d38",
        "colab": {
          "base_uri": "https://localhost:8080/"
        }
      },
      "execution_count": null,
      "outputs": [
        {
          "output_type": "stream",
          "name": "stdout",
          "text": [
            "La suma:  7\n"
          ]
        }
      ]
    },
    {
      "cell_type": "markdown",
      "source": [
        ""
      ],
      "metadata": {
        "id": "9OcRRUaKVts_"
      }
    },
    {
      "cell_type": "code",
      "source": [
        "#funciones anonimas... \n",
        "sumaNumeros = lambda num1, num2: num1 + num2\n",
        "print( \"La suma: \", sumaNumeros(4,6))"
      ],
      "metadata": {
        "id": "VvoERMe8Q6im",
        "outputId": "5d3da56e-6116-4f41-89d3-4ea6dbf952ca",
        "colab": {
          "base_uri": "https://localhost:8080/"
        }
      },
      "execution_count": null,
      "outputs": [
        {
          "output_type": "stream",
          "name": "stdout",
          "text": [
            "La suma:  10\n"
          ]
        }
      ]
    },
    {
      "cell_type": "code",
      "source": [
        "numeros = [5,4,7,8,-4,-9] #array unidimensional"
      ],
      "metadata": {
        "id": "fj4lVjX1X66u"
      },
      "execution_count": null,
      "outputs": []
    },
    {
      "cell_type": "code",
      "source": [
        "def cuadrado(num):\n",
        "  return num**2"
      ],
      "metadata": {
        "id": "44cMwMXxXnLG"
      },
      "execution_count": null,
      "outputs": []
    },
    {
      "cell_type": "code",
      "source": [
        "def cubo(num):\n",
        "  return num**3"
      ],
      "metadata": {
        "id": "2d8TtecAYGAb"
      },
      "execution_count": null,
      "outputs": []
    },
    {
      "cell_type": "code",
      "source": [
        "def pares(num): #num = 2/2 = 1 == 0\n",
        "  return num%2==0"
      ],
      "metadata": {
        "id": "fziJLSLbaif4"
      },
      "execution_count": null,
      "outputs": []
    },
    {
      "cell_type": "code",
      "source": [
        "def impares(num):\n",
        "  return num%2!=0"
      ],
      "metadata": {
        "id": "WgWbIeQRd1j4"
      },
      "execution_count": null,
      "outputs": []
    },
    {
      "cell_type": "code",
      "source": [
        "numCuadrado = list(map(cuadrado, numeros))\n",
        "numXDos = list( map(lambda num: num*2, numeros) )\n",
        "print(\"Elevar al cuadradola lista: \",numCuadrado, numXDos )"
      ],
      "metadata": {
        "id": "kBtTQ095SLF9",
        "outputId": "8887c407-4f1f-4352-86c9-65c7b8b3e5cc",
        "colab": {
          "base_uri": "https://localhost:8080/"
        }
      },
      "execution_count": null,
      "outputs": [
        {
          "output_type": "stream",
          "name": "stdout",
          "text": [
            "Elevar al cuadradola lista:  [25, 16, 49, 64, 16, 81] [10, 8, 14, 16, -8, -18]\n"
          ]
        }
      ]
    },
    {
      "cell_type": "code",
      "source": [
        "numCubo = list( map(cubo, numeros) )\n",
        "print(numCubo)"
      ],
      "metadata": {
        "id": "7xJvl1K-X9n-",
        "outputId": "fd41c8e7-1af6-4b8f-dd5e-5f1d0d9ef972",
        "colab": {
          "base_uri": "https://localhost:8080/"
        }
      },
      "execution_count": null,
      "outputs": [
        {
          "output_type": "stream",
          "name": "stdout",
          "text": [
            "[125, 64, 343, 512, -64, -729]\n"
          ]
        }
      ]
    },
    {
      "cell_type": "code",
      "source": [
        "#usando filter dejamos solo los pares\n",
        "pares = list( filter(pares, numeros) )\n",
        "print(pares)"
      ],
      "metadata": {
        "id": "RDm54a3eaUs4",
        "outputId": "b01608c9-7465-444c-e881-c275a533d66b",
        "colab": {
          "base_uri": "https://localhost:8080/"
        }
      },
      "execution_count": null,
      "outputs": [
        {
          "output_type": "stream",
          "name": "stdout",
          "text": [
            "[4, 8, -4]\n"
          ]
        }
      ]
    },
    {
      "cell_type": "code",
      "source": [
        "impares = list( filter(impares,numeros) )\n",
        "print(impares)"
      ],
      "metadata": {
        "id": "Y9tFm7zveAVM",
        "outputId": "a7aeff05-7c4f-4d1d-8d85-6805d006bcb7",
        "colab": {
          "base_uri": "https://localhost:8080/"
        }
      },
      "execution_count": null,
      "outputs": [
        {
          "output_type": "stream",
          "name": "stdout",
          "text": [
            "[5, 7, -9]\n"
          ]
        }
      ]
    },
    {
      "cell_type": "code",
      "source": [
        "#conversor de celcius a F\n",
        "def cf(c):\n",
        "  return c*9/5+32"
      ],
      "metadata": {
        "id": "vqd3kOnivBUg"
      },
      "execution_count": null,
      "outputs": []
    },
    {
      "cell_type": "code",
      "source": [
        "c = float(input(\"Grados C: \"))\n",
        "print(\"G. C a F\", cf(c))"
      ],
      "metadata": {
        "id": "qZzNR_ixwMEO",
        "outputId": "83259578-93f0-4e65-c5df-ad5cc6bb86f6",
        "colab": {
          "base_uri": "https://localhost:8080/"
        }
      },
      "execution_count": null,
      "outputs": [
        {
          "output_type": "stream",
          "name": "stdout",
          "text": [
            "Grados C: 27\n",
            "G. C a F 80.6\n"
          ]
        }
      ]
    },
    {
      "cell_type": "code",
      "source": [
        "def cf(c):\n",
        "  return c*9/5+32"
      ],
      "metadata": {
        "id": "avIqzxDmxxy3"
      },
      "execution_count": null,
      "outputs": []
    },
    {
      "cell_type": "code",
      "source": [
        "c = lambda c: c*9/5+32\n",
        "cc = int(input(\"Grados Celcius: \"))\n",
        "print(c(cc))"
      ],
      "metadata": {
        "id": "5nW2F0TXzx_t",
        "outputId": "3579ebe0-966c-4569-dec9-0512f0b7322c",
        "colab": {
          "base_uri": "https://localhost:8080/"
        }
      },
      "execution_count": null,
      "outputs": [
        {
          "output_type": "stream",
          "name": "stdout",
          "text": [
            "Grados Celcius: 27\n",
            "80.6\n"
          ]
        }
      ]
    },
    {
      "cell_type": "code",
      "source": [
        "gradosc = [27, 30, 35,40, 45]\n",
        "grados = lambda c: c*1.8 +32\n",
        "f = list(map(grados, gradosc))\n",
        "print(f)"
      ],
      "metadata": {
        "id": "J5ShN-oJ2b9o",
        "outputId": "e2a948ae-da96-40b0-fa74-e632a2c1603a",
        "colab": {
          "base_uri": "https://localhost:8080/"
        }
      },
      "execution_count": null,
      "outputs": [
        {
          "output_type": "stream",
          "name": "stdout",
          "text": [
            "[80.6, 86.0, 95.0, 104.0, 113.0]\n"
          ]
        }
      ]
    },
    {
      "cell_type": "code",
      "source": [
        "gradosF = [80.6, 86.0, 95.0, 104.0, 113.0]\n",
        "from math import ceil\n",
        "gradosc = lambda f: ceil((f-32)*5/9)\n",
        "c = list(map(gradosc, gradosF))\n",
        "print(c)"
      ],
      "metadata": {
        "id": "j8t7nYoi4PFj",
        "outputId": "3cf4351c-ae86-4c1d-a144-ec73bfa64c8f",
        "colab": {
          "base_uri": "https://localhost:8080/"
        }
      },
      "execution_count": null,
      "outputs": [
        {
          "output_type": "stream",
          "name": "stdout",
          "text": [
            "[27, 30, 35, 40, 45]\n"
          ]
        }
      ]
    },
    {
      "cell_type": "code",
      "source": [
        "#Hacer algoritmo para convertir de celcius a kelvin y viceversa"
      ],
      "metadata": {
        "id": "waN8gvHL6T81"
      },
      "execution_count": null,
      "outputs": []
    },
    {
      "cell_type": "code",
      "source": [
        "gradosC = [27, 30, 35, 40, 45]\n",
        "gradosK = lambda k: k+273.15\n",
        "k = list(map(gradosK, gradosC))\n",
        "print(k)"
      ],
      "metadata": {
        "colab": {
          "base_uri": "https://localhost:8080/"
        },
        "id": "xH5yVZbhtKr6",
        "outputId": "71d700f1-2fe3-4e7d-b69b-b406855aa27d"
      },
      "execution_count": null,
      "outputs": [
        {
          "output_type": "stream",
          "name": "stdout",
          "text": [
            "[300.15, 303.15, 308.15, 313.15, 318.15]\n"
          ]
        }
      ]
    },
    {
      "cell_type": "code",
      "source": [
        "gradosK = [300.15, 303.15, 308.15, 313.15, 318.15]\n",
        "gradosC = lambda c:int(c-273.15) \n",
        "c = list(map(gradosC, gradosK))\n",
        "print(c)"
      ],
      "metadata": {
        "colab": {
          "base_uri": "https://localhost:8080/"
        },
        "id": "vPpPGu9wujLW",
        "outputId": "94c30d52-c04b-4fba-c450-a9b67969c507"
      },
      "execution_count": null,
      "outputs": [
        {
          "output_type": "stream",
          "name": "stdout",
          "text": [
            "[27, 30, 35, 40, 45]\n"
          ]
        }
      ]
    },
    {
      "cell_type": "code",
      "source": [
        "gradosK = lambda k: k+273.15\n",
        "kelvin = int(input(\"Grados Celcius: \"))\n",
        "print(gradosK(kelvin))"
      ],
      "metadata": {
        "colab": {
          "base_uri": "https://localhost:8080/"
        },
        "id": "uzK-3wZCxMnV",
        "outputId": "b8c5f019-3772-444f-8391-e674a3d916c6"
      },
      "execution_count": null,
      "outputs": [
        {
          "output_type": "stream",
          "name": "stdout",
          "text": [
            "Grados Celcius: 27\n",
            "300.15\n"
          ]
        }
      ]
    },
    {
      "cell_type": "code",
      "source": [
        "de = int(input(\"de: \"))\n",
        "a = int(input(\"a: \"))\n",
        "cantidad = float(input(\"Cantidad: \"))\n",
        "\n",
        "print( valores[de], \"a \", valores[a], \"es: \", convertir(de, a, cantidad))"
      ],
      "metadata": {
        "colab": {
          "base_uri": "https://localhost:8080/"
        },
        "id": "e8DJnUyo8ptx",
        "outputId": "522ca0a6-8dfc-4a65-f9e0-dc9e74356158"
      },
      "execution_count": null,
      "outputs": [
        {
          "output_type": "stream",
          "name": "stdout",
          "text": [
            "de: 6\n",
            "a: 2\n",
            "Cantidad: 10\n",
            "0.98 a  7.71 es:  78.6734693877551\n"
          ]
        }
      ]
    },
    {
      "cell_type": "code",
      "source": [
        "gradosC = lambda c: c-273.15\n",
        "celcius = float(input(\"Grados Kelvin: \"))\n",
        "print(gradosC(celcius))"
      ],
      "metadata": {
        "colab": {
          "base_uri": "https://localhost:8080/"
        },
        "id": "LvvVjOAlycFd",
        "outputId": "cf0c28af-46a4-4499-ced0-085a3337c5a8"
      },
      "execution_count": null,
      "outputs": [
        {
          "output_type": "stream",
          "name": "stdout",
          "text": [
            "Grados Kelvin: 300.15\n",
            "27.0\n"
          ]
        }
      ]
    },
    {
      "cell_type": "code",
      "source": [
        "divisas = [\"Seleccione una divisa: \", \"dolar\", \"quetzal\", \"lempira\", \"cordoba\", \"pesosCR\", \"ColonSV\", \"yanes\",\"solesP\"]\n",
        "valores = [0,1, 7.71, 24.51, 35.27, 604.04, 0.98, 8.75, 114.13, 3.84]"
      ],
      "metadata": {
        "id": "uoCXCN_q6tQ-"
      },
      "execution_count": null,
      "outputs": []
    },
    {
      "cell_type": "code",
      "source": [
        "\n",
        "con = int(input(\"Ingrese seleccion: \")) \n",
        "if(con == 0 ):\n",
        "     i = 0\n",
        "while (i <= 9):\n",
        "  print( i,\"- \", nombresC[con][i], \"\\n\")\n",
        "  i+=1\n",
        "  \n",
        "datos()"
      ],
      "metadata": {
        "colab": {
          "base_uri": "https://localhost:8080/"
        },
        "id": "ZsZDlJUjoHlc",
        "outputId": "691a75c8-51ab-49f2-8928-af1b1434643f"
      },
      "execution_count": 53,
      "outputs": [
        {
          "output_type": "stream",
          "name": "stdout",
          "text": [
            "Ingrese seleccion: 0\n",
            "0 -  Dolar \n",
            "\n",
            "1 -  ColonSv \n",
            "\n",
            "2 -  Quetzal \n",
            "\n",
            "3 -  Lempira \n",
            "\n",
            "4 -  Cordoba \n",
            "\n",
            "5 -  Colon(CR) \n",
            "\n",
            "6 -  Euro \n",
            "\n",
            "7 -  Peso(Mx) \n",
            "\n",
            "8 -  Yen(Jp) \n",
            "\n",
            "9 -  Real(Br) \n",
            "\n",
            "de: 0\n",
            "a: 1\n",
            "Cantidad: 1\n",
            "1.0 Dolar es:  8.75 ColonSv\n"
          ]
        }
      ]
    },
    {
      "cell_type": "code",
      "source": [
        "print(\"Menu\")\n",
        "print(\"Seleccione una divisa\")\n",
        "print(\"dolar\")\n",
        "print(\"quetzal\")\n",
        "print(\"lempira\")\n",
        "print(\"cordoba\")\n",
        "print(\"pesoCR\")\n",
        "print(\"colonSv\")\n",
        "print(\"yanes\")\n",
        "print(\"solesP\")"
      ],
      "metadata": {
        "colab": {
          "base_uri": "https://localhost:8080/"
        },
        "id": "HoynBMOG6oOt",
        "outputId": "402e34bc-2360-485a-ee20-f708e31e2601"
      },
      "execution_count": 7,
      "outputs": [
        {
          "output_type": "stream",
          "name": "stdout",
          "text": [
            "Menu\n",
            "Seleccione una divisa\n",
            "dolar\n",
            "quetzal\n",
            "lempira\n",
            "cordoba\n",
            "pesoCR\n",
            "colonSv\n",
            "yanes\n",
            "solesP\n"
          ]
        }
      ]
    },
    {
      "cell_type": "code",
      "source": [
        "con = int(input(\"Ingrese seleccion: \")) \n",
        "if(con == 1 ):\n",
        "     i = 0\n",
        "while (i <= 9):\n",
        "  print( i,\"- \", nombresC[con][i], \"\\n\")\n",
        "  i+=1\n",
        "  \n",
        "de = int(input(\"de: \"))\n",
        "a = int(input(\"a: \"))\n",
        "cantidad = float(input(\"Cantidad: \"))\n",
        "\n",
        "print( cantidad,\" \", nombresC[con][de], \"a \", nombresC[con][a], \"es: \", convertir(de, a, cantidad,con))"
      ],
      "metadata": {
        "id": "YeHDwWIC05kM"
      },
      "execution_count": null,
      "outputs": []
    },
    {
      "cell_type": "markdown",
      "source": [
        ""
      ],
      "metadata": {
        "id": "zrnoZo9hyWXx"
      }
    },
    {
      "cell_type": "code",
      "source": [
        "unidadesC = [\n",
        "    [1.00,8.75,7.77, 24.03,34.8,611.10,0.82,19.93,105.00,5.39],                                               #monedas //0\n",
        "    [1.0, 100.0,39.37,3.28,0.001,1.093613,0.000621,0.836,0.0001,1.000],                                       #longitud //1\n",
        "    [1.0,16.00,0.453592,4.535924,453.5924,45.35924,4535.924,45359.24,453592.4,0.0005],                        #masa //2\n",
        "    [1.0,0.68,7.629395,8.0,976.5625,0.953674,0.008,0.001,0.000008,0.000001],                                  #almacenamiento //3\n",
        "    [1.0,60.0,3600.0,3600000.0,3600000000.0,0.041667,0.005952,0.000114,1.14155e-5,1.14155e-6],                #tiempo //4\n",
        "    [1.0,33.8,274.15],                                                                                        #temperatura //5\n",
        "    [1.0,0.333333,0.166667,0.0200833,0.005208,0.001302,0.004929,4.928922,4.928922,0.000005],                  #volumen //6\n",
        "    [1.0,0.111111,0.000000035870064,144.0,0.00000009290304,0.000009,0.092903,929.0304,92903.04,0.000024],     #area //7\n",
        "]\n"
      ],
      "metadata": {
        "id": "IlXcceAUhfG8"
      },
      "execution_count": 9,
      "outputs": []
    },
    {
      "cell_type": "code",
      "source": [
        "nombresC = [\n",
        "    ['Dolar', \"ColonSv\", \"Quetzal\", \"Lempira\", \"Cordoba\", \"Colon(CR)\", \"Euro\",                  #monedas//0\n",
        "     \"Peso(Mx)\", \"Yen(Jp)\", \"Real(Br)\"],                                                        \n",
        "    [\"Metro\", \"Centimetro\", \"Pulgada\", \"Pie\", \"Kilonetro\", \"Yarda\", \"Milla\",                     #longitud//1\n",
        "     \"Vara\", \"Hectarea\", \"Milimetro\"],\n",
        "    [\"Libra\", \"Onza\", \"Kilogramo\", \"Hectogramo\", \"Gramo\", \"Decagramo\", \"Decigramo\",              #masa//2\n",
        "     \"Centigramo\", \"Miligramo\", \"Tonelada Corta(USA)\"],\n",
        "    [\"Megabytes\", \"Diskettes\", \"Mebibits\", \"bits\", \"Kibibytes\", \"Mebibytes\",                     #almacenamiento//3\n",
        "     \"Gigabits\", \"Gigabytes\", \"Terabits\", \"Terabytes\"],\n",
        "    [\"Hora\", \"Minutos\", \"Segundos\", \"Milisegundos\", \"Microsegundos\", \"Días\",                     #tiempo//4\n",
        "     \"Semana\", \"Años\", \"Decada\", \"Siglo\"],\n",
        "    [\"Celsius\", \"Fahrenheit\", \"Kelvin\"],                                                         #temperatura//5\n",
        "    [\"Cucharaditas\", \"Cuchardas\", \"Onzas Líquidas\", \"Tazas\", \"Cuartos de Galón\",                 #volumen//6\n",
        "     \"Galones\", \"Litros\", \"Mililitros\", \"Centímetros Cúbicos\", \"Metros Cúbicos\"],                #area//7\n",
        "    [\"Pies Cuadrados\", \"Yardas Cuadradas\", \"Milla Cuadradas\", \"Pulgadas Cuadradas\",\n",
        "     \"Kilómetros Cuadradas\", \"Hectáreas\", \"Metros Cuadrados\", \"Centímetros Cuadrados\",\n",
        "     \"Milímetros Cuadrados\", \"Acres\"]\n",
        "]"
      ],
      "metadata": {
        "id": "c0_cfv7tgZNC"
      },
      "execution_count": 10,
      "outputs": []
    },
    {
      "cell_type": "code",
      "source": [
        "def convertir(de, a, cantidad, u):\n",
        "  return unidadesC[u][a] / unidadesC[u][de] * cantidad"
      ],
      "metadata": {
        "id": "6JejTHAe7ozS"
      },
      "execution_count": 6,
      "outputs": []
    },
    {
      "cell_type": "code",
      "source": [
        "def datos ():\n",
        " de = int(input(\"de: \")) \n",
        " a = int(input(\"a: \"))\n",
        " cantidad = float(input(\"Cantidad: \"))\n",
        " return print(cantidad, nombresC[con][de],'es: ', convertir(de,a,cantidad,con), nombresC[con][a]) \n",
        "  "
      ],
      "metadata": {
        "id": "PbIqNo6EaJNp"
      },
      "execution_count": 51,
      "outputs": []
    },
    {
      "cell_type": "code",
      "source": [
        "con = int(input(\"Ingrese seleccion: \")) \n",
        "if(con == 1 ):\n",
        "     i = 0\n",
        "while (i <= 9):\n",
        "  print( i,\"- \", nombresC[con][i], \"\\n\")\n",
        "  i+=1\n",
        "  \n",
        "datos()"
      ],
      "metadata": {
        "colab": {
          "base_uri": "https://localhost:8080/"
        },
        "id": "XrgJf1L6v0I2",
        "outputId": "c28372fc-8f15-4034-b855-fe0940c2ad65"
      },
      "execution_count": 37,
      "outputs": [
        {
          "name": "stdout",
          "output_type": "stream",
          "text": [
            "Ingrese seleccion: 1\n",
            "0 -  Metro \n",
            "\n",
            "1 -  Centimetro \n",
            "\n",
            "2 -  Pulgada \n",
            "\n",
            "3 -  Pie \n",
            "\n",
            "4 -  Kilonetro \n",
            "\n",
            "5 -  Yarda \n",
            "\n",
            "6 -  Milla \n",
            "\n",
            "7 -  Vara \n",
            "\n",
            "8 -  Hectarea \n",
            "\n",
            "9 -  Milimetro \n",
            "\n",
            "de: 0\n",
            "a: 1\n",
            "Cantidad: 10\n"
          ]
        }
      ]
    },
    {
      "cell_type": "code",
      "source": [
        "print(\"Seleccione que tipo de conversor\")\n",
        "print(\"0- Monedas\")\n",
        "print(\"1- Longitud\")\n",
        "print(\"2- Masa\")\n",
        "print(\"3- Almacenamiento\")\n",
        "print(\"4- Tiempo\")\n",
        "print(\"5- Temperatura\")\n",
        "print(\"6- Volumen\")\n",
        "print(\"7- Area\")"
      ],
      "metadata": {
        "colab": {
          "base_uri": "https://localhost:8080/"
        },
        "id": "dQJzXzLZkd8D",
        "outputId": "e5d43227-cd5a-4890-d81f-e52708c28eba"
      },
      "execution_count": 11,
      "outputs": [
        {
          "output_type": "stream",
          "name": "stdout",
          "text": [
            "Seleccione que tipo de conversor\n",
            "0- Monedas\n",
            "1- Longitud\n",
            "2- Masa\n",
            "3- Almacenamiento\n",
            "4- Tiempo\n",
            "5- Temperatura\n",
            "6- Volumen\n",
            "7- Area\n"
          ]
        }
      ]
    },
    {
      "cell_type": "code",
      "source": [
        "def menu(i, con):\n",
        "  while(i<=9):\n",
        "    print(i, \"- \",nombresC[con][i],\"\\n\")\n",
        "    i+=1"
      ],
      "metadata": {
        "id": "BasDkZIFk5_i"
      },
      "execution_count": 55,
      "outputs": []
    },
    {
      "cell_type": "code",
      "source": [
        "i = 0\n",
        "con = int(input(\"Ingrese seleccion: \"))\n",
        "if con==0:\n",
        "  menu(i,con)\n",
        "  datos()\n",
        "\n",
        "elif con==1:\n",
        "  menu(i,con)\n",
        "  datos()\n",
        "\n",
        "elif con==2:\n",
        "  menu(i,con)  \n",
        "  datos()\n",
        "\n",
        "elif con==3:\n",
        "  menu(i,con)\n",
        "  datos()\n",
        "\n",
        "elif con==4:\n",
        "  menu(i,con)\n",
        "  datos()\n",
        "\n",
        "elif con==6:\n",
        "  menu(i,con)\n",
        "  datos()\n",
        "\n",
        "elif con==7:\n",
        "  menu(i,con)\n",
        "  datos()\n"
      ],
      "metadata": {
        "colab": {
          "base_uri": "https://localhost:8080/"
        },
        "id": "YRRMj7IE06aP",
        "outputId": "cb83f82e-d6d4-4eb5-84aa-2de76515f125"
      },
      "execution_count": 57,
      "outputs": [
        {
          "output_type": "stream",
          "name": "stdout",
          "text": [
            "Ingrese seleccion: 0\n",
            "0 -  Dolar \n",
            "\n",
            "1 -  ColonSv \n",
            "\n",
            "2 -  Quetzal \n",
            "\n",
            "3 -  Lempira \n",
            "\n",
            "4 -  Cordoba \n",
            "\n",
            "5 -  Colon(CR) \n",
            "\n",
            "6 -  Euro \n",
            "\n",
            "7 -  Peso(Mx) \n",
            "\n",
            "8 -  Yen(Jp) \n",
            "\n",
            "9 -  Real(Br) \n",
            "\n",
            "de: 0\n",
            "a: 6\n",
            "Cantidad: 45\n",
            "45.0 Dolar es:  36.9 Euro\n"
          ]
        }
      ]
    },
    {
      "cell_type": "code",
      "source": [
        "\n",
        "datos()\n",
        "\n",
        "print(cantidad,\" \", nombresC[con][de], \"a \", nombresC[con][a],\"es: \",convertir(de,a,cantidad,con))"
      ],
      "metadata": {
        "colab": {
          "base_uri": "https://localhost:8080/"
        },
        "id": "WJuCnvl6oUOg",
        "outputId": "99007a8b-128e-4333-e5ae-10cdda32607d"
      },
      "execution_count": 21,
      "outputs": [
        {
          "output_type": "stream",
          "name": "stdout",
          "text": [
            "de: 5\n",
            "a: 2\n",
            "Cantidad: 22\n",
            "200.0   Metro a  Pie es:  656.0\n"
          ]
        }
      ]
    }
  ],
  "metadata": {
    "colab": {
      "collapsed_sections": [],
      "name": "Conversores",
      "provenance": [],
      "include_colab_link": true
    },
    "kernelspec": {
      "display_name": "Python 3",
      "name": "python3"
    }
  },
  "nbformat": 4,
  "nbformat_minor": 0
}